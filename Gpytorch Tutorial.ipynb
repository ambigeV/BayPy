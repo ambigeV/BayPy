{
 "cells": [
  {
   "cell_type": "code",
   "execution_count": 1,
   "id": "b979561b",
   "metadata": {},
   "outputs": [],
   "source": [
    "import math\n",
    "import torch\n",
    "import gpytorch\n",
    "import matplotlib.pyplot as plt\n",
    "%matplotlib inline"
   ]
  },
  {
   "cell_type": "code",
   "execution_count": 2,
   "id": "e550f23d",
   "metadata": {},
   "outputs": [],
   "source": [
    "# prepare input data\n",
    "train_x = torch.linspace(0, 1, 100)\n",
    "train_y = torch.sin(train_x * 2 * math.pi) + torch.randn(train_x.size()) + math.sqrt(0.04)"
   ]
  },
  {
   "cell_type": "markdown",
   "id": "8d40e071",
   "metadata": {},
   "source": [
    "#### GP Model"
   ]
  },
  {
   "cell_type": "code",
   "execution_count": 3,
   "id": "d41217c3",
   "metadata": {},
   "outputs": [],
   "source": [
    "class MyGPModel(gpytorch.models.ExactGP):\n",
    "    def __init__(self, train_x, train_y, likelihood):\n",
    "        super(MyGPModel, self).__init__(train_x, train_y, likelihood)\n",
    "        self.mean_module = gpytorch.means.ConstantMean()\n",
    "        self.covar_module = gpytorch.kernels.ScaleKernel(gpytorch.kernels.RBFKernel())\n",
    "\n",
    "    def forward(self, x):\n",
    "        mean_x = self.mean_module(x)\n",
    "        covar_x = self.covar_module(x)\n",
    "        return gpytorch.distributions.MultivariateNormal(mean_x, covar_x)"
   ]
  },
  {
   "cell_type": "markdown",
   "id": "e0cd537d",
   "metadata": {},
   "source": [
    "#### Evaluation Settings"
   ]
  },
  {
   "cell_type": "code",
   "execution_count": 4,
   "id": "ec9db1fb",
   "metadata": {},
   "outputs": [],
   "source": [
    "# fetch likelihood and model\n",
    "likelihood = gpytorch.likelihoods.GaussianLikelihood()\n",
    "model = MyGPModel(train_x, train_y, likelihood)\n",
    "\n",
    "# training loop\n",
    "training_iter = 50\n",
    "model.train()\n",
    "likelihood.train()\n",
    "\n",
    "# define the optimizer\n",
    "optimizer = torch.optim.Adam(model.parameters(), lr=0.1)\n",
    "\n",
    "# define the loss for GPs - the marginal log likelihood\n",
    "mll = gpytorch.mlls.ExactMarginalLogLikelihood(likelihood, model)"
   ]
  },
  {
   "cell_type": "markdown",
   "id": "9e70a8da",
   "metadata": {},
   "source": [
    "#### Training Iterations"
   ]
  },
  {
   "cell_type": "code",
   "execution_count": 5,
   "id": "42b2d238",
   "metadata": {},
   "outputs": [
    {
     "name": "stdout",
     "output_type": "stream",
     "text": [
      "Iter:0/50, loss:1.7580726146697998, length_scale:0.6931471824645996, noise:0.6932471990585327\n",
      "Iter:1/50, loss:1.7202266454696655, length_scale:0.6443966627120972, noise:0.7444967031478882\n",
      "Iter:2/50, loss:1.6876503229141235, length_scale:0.5980837941169739, noise:0.7977122664451599\n",
      "Iter:3/50, loss:1.6595709323883057, length_scale:0.5541679859161377, noise:0.8523622751235962\n",
      "Iter:4/50, loss:1.6352736949920654, length_scale:0.5125977993011475, noise:0.9077761173248291\n",
      "Iter:5/50, loss:1.6142361164093018, length_scale:0.4733077585697174, noise:0.9631553888320923\n",
      "Iter:6/50, loss:1.5962579250335693, length_scale:0.43623363971710205, noise:1.0176101922988892\n",
      "Iter:7/50, loss:1.5814628601074219, length_scale:0.4013529419898987, noise:1.0702247619628906\n",
      "Iter:8/50, loss:1.5701483488082886, length_scale:0.36874261498451233, noise:1.120146632194519\n",
      "Iter:9/50, loss:1.5625039339065552, length_scale:0.33861857652664185, noise:1.166669249534607\n",
      "Iter:10/50, loss:1.558320164680481, length_scale:0.31130126118659973, noise:1.2092798948287964\n",
      "Iter:11/50, loss:1.5568945407867432, length_scale:0.2870827913284302, noise:1.247657299041748\n",
      "Iter:12/50, loss:1.5572375059127808, length_scale:0.2660640776157379, noise:1.281633734703064\n",
      "Iter:13/50, loss:1.558418869972229, length_scale:0.24808432161808014, noise:1.311147928237915\n",
      "Iter:14/50, loss:1.5597949028015137, length_scale:0.23278574645519257, noise:1.3362102508544922\n",
      "Iter:15/50, loss:1.561023235321045, length_scale:0.21973846852779388, noise:1.3568836450576782\n",
      "Iter:16/50, loss:1.5619637966156006, length_scale:0.20853839814662933, noise:1.3732762336730957\n",
      "Iter:17/50, loss:1.5625815391540527, length_scale:0.19885124266147614, noise:1.385537028312683\n",
      "Iter:18/50, loss:1.5628836154937744, length_scale:0.19041873514652252, noise:1.3938523530960083\n",
      "Iter:19/50, loss:1.5628924369812012, length_scale:0.18304738402366638, noise:1.398439884185791\n",
      "Iter:20/50, loss:1.5626320838928223, length_scale:0.17659267783164978, noise:1.3995431661605835\n",
      "Iter:21/50, loss:1.562125563621521, length_scale:0.17094464600086212, noise:1.3974254131317139\n",
      "Iter:22/50, loss:1.5613921880722046, length_scale:0.16601626574993134, noise:1.392364263534546\n",
      "Iter:23/50, loss:1.5604488849639893, length_scale:0.16173520684242249, noise:1.3846464157104492\n",
      "Iter:24/50, loss:1.5593130588531494, length_scale:0.15803813934326172, noise:1.3745646476745605\n",
      "Iter:25/50, loss:1.558007836341858, length_scale:0.15486708283424377, noise:1.362413763999939\n",
      "Iter:26/50, loss:1.5565661191940308, length_scale:0.15216705203056335, noise:1.3484880924224854\n",
      "Iter:27/50, loss:1.555031418800354, length_scale:0.149884894490242, noise:1.3330800533294678\n",
      "Iter:28/50, loss:1.5534526109695435, length_scale:0.14796853065490723, noise:1.31647789478302\n",
      "Iter:29/50, loss:1.5518766641616821, length_scale:0.14636676013469696, noise:1.2989647388458252\n",
      "Iter:30/50, loss:1.5503424406051636, length_scale:0.14502906799316406, noise:1.2808172702789307\n",
      "Iter:31/50, loss:1.5488803386688232, length_scale:0.14390555024147034, noise:1.2623047828674316\n",
      "Iter:32/50, loss:1.5475201606750488, length_scale:0.14294682443141937, noise:1.2436875104904175\n",
      "Iter:33/50, loss:1.5462961196899414, length_scale:0.14210456609725952, noise:1.2252157926559448\n",
      "Iter:34/50, loss:1.545243501663208, length_scale:0.14133241772651672, noise:1.2071278095245361\n",
      "Iter:35/50, loss:1.5443854331970215, length_scale:0.14058749377727509, noise:1.1896480321884155\n",
      "Iter:36/50, loss:1.5437222719192505, length_scale:0.13983185589313507, noise:1.1729849576950073\n",
      "Iter:37/50, loss:1.543241024017334, length_scale:0.13903367519378662, noise:1.1573281288146973\n",
      "Iter:38/50, loss:1.542932391166687, length_scale:0.13816805183887482, noise:1.142845869064331\n",
      "Iter:39/50, loss:1.5427900552749634, length_scale:0.1372174769639969, noise:1.1296826601028442\n",
      "Iter:40/50, loss:1.5427895784378052, length_scale:0.1361720860004425, noise:1.1179567575454712\n",
      "Iter:41/50, loss:1.5428847074508667, length_scale:0.135029137134552, noise:1.1077593564987183\n",
      "Iter:42/50, loss:1.5430337190628052, length_scale:0.133791983127594, noise:1.099152684211731\n",
      "Iter:43/50, loss:1.5432145595550537, length_scale:0.13246943056583405, noise:1.0921686887741089\n",
      "Iter:44/50, loss:1.5433971881866455, length_scale:0.13107575476169586, noise:1.0868090391159058\n",
      "Iter:45/50, loss:1.5435409545898438, length_scale:0.12963038682937622, noise:1.0830446481704712\n",
      "Iter:46/50, loss:1.5436279773712158, length_scale:0.12815698981285095, noise:1.080816626548767\n",
      "Iter:47/50, loss:1.543662667274475, length_scale:0.12668205797672272, noise:1.0800385475158691\n",
      "Iter:48/50, loss:1.5436395406723022, length_scale:0.125233456492424, noise:1.0806000232696533\n",
      "Iter:49/50, loss:1.5435576438903809, length_scale:0.12383827567100525, noise:1.0823711156845093\n"
     ]
    }
   ],
   "source": [
    "# training iter\n",
    "for i in range(training_iter):\n",
    "    optimizer.zero_grad()\n",
    "\n",
    "    output = model(train_x)\n",
    "\n",
    "    loss = -mll(output, train_y)\n",
    "    loss.backward()\n",
    "\n",
    "    print(\"Iter:{}/{}, loss:{}, length_scale:{}, noise:{}\".format(\n",
    "        i, training_iter, loss.item(),\n",
    "        model.covar_module.base_kernel.lengthscale.item(),\n",
    "        model.likelihood.noise_covar.noise.item()\n",
    "    ))\n",
    "\n",
    "    optimizer.step()"
   ]
  },
  {
   "cell_type": "markdown",
   "id": "3369ca49",
   "metadata": {},
   "source": [
    "#### Evaluation Settings and Iterations"
   ]
  },
  {
   "cell_type": "code",
   "execution_count": 6,
   "id": "efe8c718",
   "metadata": {
    "scrolled": true
   },
   "outputs": [
    {
     "data": {
      "image/png": "[encoded data removed]",
      "text/plain": [
       "<Figure size 400x300 with 1 Axes>"
      ]
     },
     "metadata": {},
     "output_type": "display_data"
    }
   ],
   "source": [
    "# evaluation step --> returns p(f* | x*, X, y)\n",
    "# model(test_x) returns model distribution\n",
    "# likelihood(model(test_x)) returns output distribution\n",
    "model.eval()\n",
    "likelihood.eval()\n",
    "\n",
    "f, ax = plt.subplots(1, 1, figsize=(4, 3))\n",
    "\n",
    "with torch.no_grad(), gpytorch.settings.fast_pred_var():\n",
    "    test_x = torch.linspace(0, 1.5, 202)\n",
    "    observed_pred = likelihood(model(test_x))\n",
    "\n",
    "    lower, upper = observed_pred.confidence_region()\n",
    "    ax.plot(train_x.numpy(), train_y.numpy(), 'g*')\n",
    "    ax.plot(test_x.numpy(), observed_pred.mean.numpy(), 'b')\n",
    "    ax.fill_between(test_x.numpy(), lower.numpy(), upper.numpy(), alpha=0.5)\n",
    "    ax.legend(['Observed Data', 'Mean', 'Confidence'])\n",
    "\n",
    "    plt.show()"
   ]
  },
  {
   "cell_type": "code",
   "execution_count": 48,
   "id": "39e56d7a",
   "metadata": {
    "scrolled": true
   },
   "outputs": [
    {
     "name": "stdout",
     "output_type": "stream",
     "text": [
      "Parameter name:likelihood.noise_covar.raw_noise, value:0.6728188395500183\n",
      "Parameter name:mean_module.raw_constant, value:0.21384862065315247\n",
      "Parameter name:covar_module.raw_outputscale, value:-0.8991109132766724\n",
      "Parameter name:covar_module.base_kernel.raw_lengthscale, value:-2.0375816822052\n"
     ]
    }
   ],
   "source": [
    "for param_name, param in model.named_parameters():\n",
    "    print(\"Parameter name:{}, value:{}\".format(param_name, param.item()))"
   ]
  },
  {
   "cell_type": "code",
   "execution_count": 9,
   "id": "e855c082",
   "metadata": {},
   "outputs": [],
   "source": [
    "raw_outputscale = model.covar_module.raw_outputscale"
   ]
  },
  {
   "cell_type": "code",
   "execution_count": 10,
   "id": "e83f2c05",
   "metadata": {
    "scrolled": false
   },
   "outputs": [
    {
     "name": "stdout",
     "output_type": "stream",
     "text": [
      "raw_outputscale is Parameter containing:\n",
      "tensor(-0.8991, requires_grad=True)\n"
     ]
    }
   ],
   "source": [
    "print(\"raw_outputscale is {}\".format(raw_outputscale))"
   ]
  },
  {
   "cell_type": "code",
   "execution_count": 11,
   "id": "78066df1",
   "metadata": {
    "scrolled": true
   },
   "outputs": [
    {
     "name": "stdout",
     "output_type": "stream",
     "text": [
      "Constraint name:likelihood.noise_covar.raw_noise_constraint, constraint:GreaterThan(1.000E-04)\n",
      "Constraint name:covar_module.raw_outputscale_constraint, constraint:Positive()\n",
      "Constraint name:covar_module.base_kernel.raw_lengthscale_constraint, constraint:Positive()\n"
     ]
    }
   ],
   "source": [
    "for constraint_name, constraint in model.named_constraints():\n",
    "    print(\"Constraint name:{}, constraint:{}\".format(constraint_name, constraint))"
   ]
  },
  {
   "cell_type": "code",
   "execution_count": 42,
   "id": "7d7c3f84",
   "metadata": {},
   "outputs": [
    {
     "name": "stdout",
     "output_type": "stream",
     "text": [
      "tensor([[-0.1414, -0.4146,  1.2880, -0.4308,  0.9671],\n",
      "        [ 0.9822, -0.3704, -0.0510,  0.9286, -0.8754],\n",
      "        [ 1.3505, -0.0313,  1.0573,  0.3942,  0.9988],\n",
      "        [-1.6206,  0.2123,  0.5580,  1.0983,  0.1124],\n",
      "        [ 1.7257,  0.7133, -0.1668, -1.3851, -0.6904],\n",
      "        [ 0.2843,  1.6934, -0.1376,  0.5055, -0.6355],\n",
      "        [-0.9485,  0.7310,  1.4164,  1.6628,  1.1907],\n",
      "        [ 0.1994, -0.4833, -0.2857, -0.1763, -0.2728],\n",
      "        [ 1.6399, -0.6418,  0.7077,  0.7111, -1.4634],\n",
      "        [ 0.1724,  1.0986,  1.0084, -1.0193,  0.0788]])\n"
     ]
    }
   ],
   "source": [
    "x = torch.randn(10, 5)\n",
    "base_covar_module = gpytorch.kernels.RBFKernel()\n",
    "scaled_covar_module = gpytorch.kernels.ScaleKernel(base_covar_module)\n",
    "covar = scaled_covar_module(x)\n",
    "print(x)"
   ]
  },
  {
   "cell_type": "code",
   "execution_count": 43,
   "id": "f3cca620",
   "metadata": {},
   "outputs": [
    {
     "name": "stdout",
     "output_type": "stream",
     "text": [
      "0.6931472\n"
     ]
    }
   ],
   "source": [
    "s_orig = covar.numpy()\n",
    "orig = base_covar_module(x).numpy()\n",
    "print(s_orig[1][0]/orig[1][0])"
   ]
  },
  {
   "cell_type": "code",
   "execution_count": 46,
   "id": "9322aaef",
   "metadata": {
    "scrolled": true
   },
   "outputs": [
    {
     "name": "stdout",
     "output_type": "stream",
     "text": [
      "Parameter containing:\n",
      "tensor(0., requires_grad=True)\n",
      "Transformed outputscale tensor(0.6931, grad_fn=<SoftplusBackward0>)\n",
      "constraint Positive()\n",
      "Actual outputscale tensor(0.6931, grad_fn=<SoftplusBackward0>)\n"
     ]
    }
   ],
   "source": [
    "print(scaled_covar_module.raw_outputscale)\n",
    "constraint = scaled_covar_module.raw_outputscale_constraint\n",
    "\n",
    "print('Transformed outputscale', constraint.transform(scaled_covar_module.raw_outputscale))\n",
    "print('constraint', constraint)\n",
    "print('Actual outputscale', scaled_covar_module.outputscale)"
   ]
  },
  {
   "cell_type": "code",
   "execution_count": 54,
   "id": "393afc82",
   "metadata": {},
   "outputs": [
    {
     "name": "stdout",
     "output_type": "stream",
     "text": [
      "Parameter containing:\n",
      "tensor([0.6728], requires_grad=True)\n",
      "tensor([1.0852], grad_fn=<AddBackward0>)\n"
     ]
    }
   ],
   "source": [
    "print(likelihood.noise_covar.raw_noise)\n",
    "print(likelihood.noise)"
   ]
  }
 ],
 "metadata": {
  "kernelspec": {
   "display_name": "Python 3 (ipykernel)",
   "language": "python",
   "name": "python3"
  },
  "language_info": {
   "codemirror_mode": {
    "name": "ipython",
    "version": 3
   },
   "file_extension": ".py",
   "mimetype": "text/x-python",
   "name": "python",
   "nbconvert_exporter": "python",
   "pygments_lexer": "ipython3",
   "version": "3.11.3"
  }
 },
 "nbformat": 4,
 "nbformat_minor": 5
}
